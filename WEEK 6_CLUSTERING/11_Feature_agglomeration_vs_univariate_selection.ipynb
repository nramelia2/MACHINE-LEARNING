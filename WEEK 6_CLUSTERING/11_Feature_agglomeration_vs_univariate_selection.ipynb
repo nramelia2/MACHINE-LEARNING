{
  "nbformat": 4,
  "nbformat_minor": 0,
  "metadata": {
    "colab": {
      "name": "11_Feature_agglomeration_vs_univariate_selection.ipynb",
      "provenance": [],
      "authorship_tag": "ABX9TyNUDLSbEetduzQrJ2NiRKsZ",
      "include_colab_link": true
    },
    "kernelspec": {
      "name": "python3",
      "display_name": "Python 3"
    },
    "language_info": {
      "name": "python"
    }
  },
  "cells": [
    {
      "cell_type": "markdown",
      "metadata": {
        "id": "view-in-github",
        "colab_type": "text"
      },
      "source": [
        "<a href=\"https://colab.research.google.com/github/nramelia2/MACHINE-LEARNING/blob/main/WEEK%206_CLUSTERING/11_Feature_agglomeration_vs_univariate_selection.ipynb\" target=\"_parent\"><img src=\"https://colab.research.google.com/assets/colab-badge.svg\" alt=\"Open In Colab\"/></a>"
      ]
    },
    {
      "cell_type": "code",
      "execution_count": 1,
      "metadata": {
        "id": "rN_qAdZv9vyK"
      },
      "outputs": [],
      "source": [
        "import shutil # to carry out the operation of different files and directories. \n",
        "import tempfile # where we need to read multiple files, change or access the data in the file, and gives output files based on the result of processed data.\n",
        "\n",
        "import numpy as np\n",
        "import matplotlib.pyplot as plt\n",
        "from scipy import linalg, ndimage\n",
        "from joblib import Memory\n",
        "\n",
        "from sklearn.feature_extraction.image import grid_to_graph\n",
        "from sklearn import feature_selection\n",
        "from sklearn.cluster import FeatureAgglomeration\n",
        "from sklearn.linear_model import BayesianRidge\n",
        "from sklearn.pipeline import Pipeline\n",
        "from sklearn.model_selection import GridSearchCV\n",
        "from sklearn.model_selection import KFold"
      ]
    },
    {
      "cell_type": "code",
      "source": [
        "# #############################################################################\n",
        "# Generate data\n",
        "n_samples = 200\n",
        "size = 40  # image size\n",
        "roi_size = 15\n",
        "snr = 5.0\n",
        "np.random.seed(0)\n",
        "mask = np.ones([size, size], dtype=bool)\n",
        "\n",
        "coef = np.zeros((size, size))\n",
        "coef[0:roi_size, 0:roi_size] = -1.0\n",
        "coef[-roi_size:, -roi_size:] = 1.0\n",
        "\n",
        "X = np.random.randn(n_samples, size ** 2)\n",
        "for x in X:  # smooth data\n",
        "    x[:] = ndimage.gaussian_filter(x.reshape(size, size), sigma=1.0).ravel()\n",
        "X -= X.mean(axis=0)\n",
        "X /= X.std(axis=0)\n",
        "\n",
        "y = np.dot(X, coef.ravel())\n",
        "noise = np.random.randn(y.shape[0])\n",
        "noise_coef = (linalg.norm(y, 2) / np.exp(snr / 20.0)) / linalg.norm(noise, 2)\n",
        "y += noise_coef * noise  # add noise"
      ],
      "metadata": {
        "id": "vMjGy2bj-yMe"
      },
      "execution_count": 3,
      "outputs": []
    },
    {
      "cell_type": "code",
      "source": [
        "# #############################################################################\n",
        "# Compute the coefs of a Bayesian Ridge with GridSearch\n",
        "cv = KFold(2)  # cross-validation generator for model selection\n",
        "ridge = BayesianRidge()\n",
        "cachedir = tempfile.mkdtemp()\n",
        "mem = Memory(location=cachedir, verbose=1)\n",
        "\n",
        "# Ward agglomeration followed by BayesianRidge\n",
        "connectivity = grid_to_graph(n_x=size, n_y=size)\n",
        "ward = FeatureAgglomeration(n_clusters=10, connectivity=connectivity, memory=mem)\n",
        "clf = Pipeline([(\"ward\", ward), (\"ridge\", ridge)])\n",
        "# Select the optimal number of parcels with grid search\n",
        "clf = GridSearchCV(clf, {\"ward__n_clusters\": [10, 20, 30]}, n_jobs=1, cv=cv)\n",
        "clf.fit(X, y)  # set the best parameters\n",
        "coef_ = clf.best_estimator_.steps[-1][1].coef_\n",
        "coef_ = clf.best_estimator_.steps[0][1].inverse_transform(coef_)\n",
        "coef_agglomeration_ = coef_.reshape(size, size)"
      ],
      "metadata": {
        "colab": {
          "base_uri": "https://localhost:8080/"
        },
        "id": "SGmeUjFx_BnB",
        "outputId": "032605ed-2b5e-43b7-d59b-d09598634d38"
      },
      "execution_count": 5,
      "outputs": [
        {
          "output_type": "stream",
          "name": "stdout",
          "text": [
            "________________________________________________________________________________\n",
            "[Memory] Calling sklearn.cluster._agglomerative.ward_tree...\n",
            "ward_tree(array([[-0.451933, ..., -0.675318],\n",
            "       ...,\n",
            "       [ 0.275706, ..., -1.085711]]), connectivity=<1600x1600 sparse matrix of type '<class 'numpy.int64'>'\n",
            "\twith 7840 stored elements in COOrdinate format>, n_clusters=None, return_distance=False)\n",
            "________________________________________________________ward_tree - 0.3s, 0.0min\n",
            "________________________________________________________________________________\n",
            "[Memory] Calling sklearn.cluster._agglomerative.ward_tree...\n",
            "ward_tree(array([[ 0.905206, ...,  0.161245],\n",
            "       ...,\n",
            "       [-0.849835, ..., -1.091621]]), connectivity=<1600x1600 sparse matrix of type '<class 'numpy.int64'>'\n",
            "\twith 7840 stored elements in COOrdinate format>, n_clusters=None, return_distance=False)\n",
            "________________________________________________________ward_tree - 0.2s, 0.0min\n",
            "________________________________________________________________________________\n",
            "[Memory] Calling sklearn.cluster._agglomerative.ward_tree...\n",
            "ward_tree(array([[ 0.905206, ..., -0.675318],\n",
            "       ...,\n",
            "       [-0.849835, ..., -1.085711]]), connectivity=<1600x1600 sparse matrix of type '<class 'numpy.int64'>'\n",
            "\twith 7840 stored elements in COOrdinate format>, n_clusters=None, return_distance=False)\n",
            "________________________________________________________ward_tree - 0.2s, 0.0min\n"
          ]
        }
      ]
    },
    {
      "cell_type": "code",
      "source": [
        "# Anova univariate feature selection followed by BayesianRidge\n",
        "f_regression = mem.cache(feature_selection.f_regression)  # caching function\n",
        "anova = feature_selection.SelectPercentile(f_regression)\n",
        "clf = Pipeline([(\"anova\", anova), (\"ridge\", ridge)])\n",
        "# Select the optimal percentage of features with grid search\n",
        "clf = GridSearchCV(clf, {\"anova__percentile\": [5, 10, 20]}, cv=cv)\n",
        "clf.fit(X, y)  # set the best parameters\n",
        "coef_ = clf.best_estimator_.steps[-1][1].coef_\n",
        "coef_ = clf.best_estimator_.steps[0][1].inverse_transform(coef_.reshape(1, -1))\n",
        "coef_selection_ = coef_.reshape(size, size)"
      ],
      "metadata": {
        "colab": {
          "base_uri": "https://localhost:8080/"
        },
        "id": "ZWA82-cN_GfK",
        "outputId": "48aa1120-ef55-461f-84e8-851ac11871b1"
      },
      "execution_count": 6,
      "outputs": [
        {
          "output_type": "stream",
          "name": "stdout",
          "text": [
            "________________________________________________________________________________\n",
            "[Memory] Calling sklearn.feature_selection._univariate_selection.f_regression...\n",
            "f_regression(array([[-0.451933, ...,  0.275706],\n",
            "       ...,\n",
            "       [-0.675318, ..., -1.085711]]), \n",
            "array([ 25.267703, ..., -25.026711]))\n",
            "_____________________________________________________f_regression - 0.0s, 0.0min\n",
            "________________________________________________________________________________\n",
            "[Memory] Calling sklearn.feature_selection._univariate_selection.f_regression...\n",
            "f_regression(array([[ 0.905206, ..., -0.849835],\n",
            "       ...,\n",
            "       [ 0.161245, ..., -1.091621]]), \n",
            "array([ -27.447268, ..., -112.638768]))\n",
            "_____________________________________________________f_regression - 0.0s, 0.0min\n",
            "________________________________________________________________________________\n",
            "[Memory] Calling sklearn.feature_selection._univariate_selection.f_regression...\n",
            "f_regression(array([[ 0.905206, ..., -0.849835],\n",
            "       ...,\n",
            "       [-0.675318, ..., -1.085711]]), \n",
            "array([-27.447268, ..., -25.026711]))\n",
            "_____________________________________________________f_regression - 0.0s, 0.0min\n"
          ]
        }
      ]
    },
    {
      "cell_type": "code",
      "source": [
        "# #############################################################################\n",
        "# Inverse the transformation to plot the results on an image\n",
        "plt.close(\"all\")\n",
        "plt.figure(figsize=(7.3, 2.7))\n",
        "plt.subplot(1, 3, 1)\n",
        "plt.imshow(coef, interpolation=\"nearest\", cmap=plt.cm.RdBu_r)\n",
        "plt.title(\"True weights\")\n",
        "plt.subplot(1, 3, 2)\n",
        "plt.imshow(coef_selection_, interpolation=\"nearest\", cmap=plt.cm.RdBu_r)\n",
        "plt.title(\"Feature Selection\")\n",
        "plt.subplot(1, 3, 3)\n",
        "plt.imshow(coef_agglomeration_, interpolation=\"nearest\", cmap=plt.cm.RdBu_r)\n",
        "plt.title(\"Feature Agglomeration\")\n",
        "plt.subplots_adjust(0.04, 0.0, 0.98, 0.94, 0.16, 0.26)\n",
        "plt.show()\n",
        "\n",
        "# Attempt to remove the temporary cachedir, but don't worry if it fails\n",
        "shutil.rmtree(cachedir, ignore_errors=True)"
      ],
      "metadata": {
        "colab": {
          "base_uri": "https://localhost:8080/",
          "height": 213
        },
        "id": "ArwasRzv_KRj",
        "outputId": "90025f92-0dd8-4847-92ea-1829a00efc63"
      },
      "execution_count": 7,
      "outputs": [
        {
          "output_type": "display_data",
          "data": {
            "text/plain": [
              "<Figure size 525.6x194.4 with 3 Axes>"
            ],
            "image/png": "[encoded data removed]"
          },
          "metadata": {
            "needs_background": "light"
          }
        }
      ]
    },
    {
      "cell_type": "markdown",
      "source": [
        "###### Reference : https://scikit-learn.org/stable/auto_examples/cluster/plot_feature_agglomeration_vs_univariate_selection.html#sphx-glr-auto-examples-cluster-plot-feature-agglomeration-vs-univariate-selection-py"
      ],
      "metadata": {
        "id": "GBVsVg2CAVrd"
      }
    }
  ]
}