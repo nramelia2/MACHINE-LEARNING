{
  "nbformat": 4,
  "nbformat_minor": 0,
  "metadata": {
    "colab": {
      "name": "5_Underfitting_and_Overfitting_TK42_PIL_Nurul_Amelia_1103194032.ipynb",
      "provenance": [],
      "authorship_tag": "ABX9TyMB6i6DOrMN7Jpgi8Uf7Hgg",
      "include_colab_link": true
    },
    "kernelspec": {
      "name": "python3",
      "display_name": "Python 3"
    },
    "language_info": {
      "name": "python"
    }
  },
  "cells": [
    {
      "cell_type": "markdown",
      "metadata": {
        "id": "view-in-github",
        "colab_type": "text"
      },
      "source": [
        "<a href=\"https://colab.research.google.com/github/nramelia2/MACHINE-LEARNING/blob/main/WEEK%201_IntroToMachineLearning/5_Underfitting_and_Overfitting_TK42_PIL_Nurul_Amelia_1103194032.ipynb\" target=\"_parent\"><img src=\"https://colab.research.google.com/assets/colab-badge.svg\" alt=\"Open In Colab\"/></a>"
      ]
    },
    {
      "cell_type": "code",
      "execution_count": 1,
      "metadata": {
        "id": "bKkV3KqU9lFa"
      },
      "outputs": [],
      "source": [
        "import pandas as pd # library pandas"
      ]
    },
    {
      "cell_type": "code",
      "source": [
        "# menyambungkan google collab dengan drive agar .csv yang di drive bisa dibaca (connect google colab to the drive so that the .csv on the drive can be read).\n",
        "from google.colab import drive\n",
        "drive.mount ('/content/drive')"
      ],
      "metadata": {
        "colab": {
          "base_uri": "https://localhost:8080/"
        },
        "id": "AnmBG4Dl94hN",
        "outputId": "c67249b7-558a-4220-cc19-85dc7a0f76ae"
      },
      "execution_count": 2,
      "outputs": [
        {
          "output_type": "stream",
          "name": "stdout",
          "text": [
            "Mounted at /content/drive\n"
          ]
        }
      ]
    },
    {
      "cell_type": "code",
      "source": [
        "# sublibrary dari modul model_selection di library sklearn (sublibrary of the model_selection module in the sklearn library)\n",
        "from sklearn.tree import DecisionTreeRegressor\n",
        "from sklearn.metrics import mean_absolute_error\n",
        "from sklearn.model_selection import train_test_split\n",
        "from sklearn.metrics import mean_absolute_error"
      ],
      "metadata": {
        "id": "_dxJk5ak97T8"
      },
      "execution_count": 3,
      "outputs": []
    },
    {
      "cell_type": "code",
      "source": [
        "# menyimpan lokasi penyimpanan ke dalam variabel agar mudah dipanggil (saves the storage location into a variable for easy calling).\n",
        "melbourne_data = pd.read_csv('/content/drive/My Drive/ML/week1/melb_data.csv')"
      ],
      "metadata": {
        "id": "cmYny54e-A0w"
      },
      "execution_count": 4,
      "outputs": []
    },
    {
      "cell_type": "code",
      "source": [
        "def get_mae(max_leaf_nodes, train_X, val_X, train_y, val_y): # jika tidak ada max_leaf_nodes maka jumlah node daun tidak terbatas (if there is no max_leaf_nodes then the number of nodes and is unlimited).\n",
        "    model = DecisionTreeRegressor(max_leaf_nodes=max_leaf_nodes, random_state=0)\n",
        "    model.fit(train_X, train_y)\n",
        "    preds_val = model.predict(val_X)\n",
        "    mae = mean_absolute_error(val_y, preds_val)\n",
        "    return(mae)"
      ],
      "metadata": {
        "id": "TEkIrRLo-c8S"
      },
      "execution_count": 5,
      "outputs": []
    },
    {
      "cell_type": "code",
      "source": [
        "# menghapus baris data yang terdapat NaN, sedangkan axis=0 untuk menghapus kolom data yang terdapat NaN (delete data rows that contain NaN, while axis = 0 to delete data columns that contain NaN).\n",
        "filtered_melbourne_data = melbourne_data.dropna(axis=0)\n",
        "y = filtered_melbourne_data.Price\n",
        "\n",
        "# untuk mengatur apa yang ingin ditampilkan didalam kolom (to set what to display in the column).\n",
        "melbourne_features = ['Rooms', 'Bathroom', 'Landsize', 'BuildingArea', 'YearBuilt', 'Lattitude', 'Longtitude']\n",
        "X = filtered_melbourne_data[melbourne_features]"
      ],
      "metadata": {
        "id": "5VRmtMVM-B0l"
      },
      "execution_count": 6,
      "outputs": []
    },
    {
      "cell_type": "code",
      "source": [
        "# train_X sebagai data X yang ingin dilatih (train_X as data X you want to train).\n",
        "# train_y sebagai variabel dependen yang ingin dilatih (train_y as the dependent variable you want to train).\n",
        "# X sebagai variabel independen dan y sebagai variabel dependen (X as the independent variable and y as the dependent variable).\n",
        "# random_state digunakan untuk memastikan hasil yang sama setiap kali dijalankan, jika kita menggunakan angka 1,2,... maka hasil yang di dapatkan juga akan berbeda (kalau disini hasilnya akan semakin kecil)\n",
        "# (random_state is used to ensure the same result every time it is run, if we use the number 1,2,... then the results will also be different (if here the results will be smaller)).\n",
        "train_X, val_X, train_y, val_y = train_test_split(X, y, random_state = 0) # memecah data menjadi train dan validasi secara acak (breaks data into trains and validations randomly)."
      ],
      "metadata": {
        "id": "aNhFkMeP-N_z"
      },
      "execution_count": 7,
      "outputs": []
    },
    {
      "cell_type": "code",
      "source": [
        "# mwmbandingkan MAE dengan nilai max_leaf_nodes yang berbeda (compare MAE with differing values of max_leaf_nodes)\n",
        "for max_leaf_nodes in [5, 50, 500, 5000]:\n",
        "    my_mae = get_mae(max_leaf_nodes, train_X, val_X, train_y, val_y)\n",
        "    print(\"Max leaf nodes: %d  \\t\\t Mean Absolute Error:  %d\" %(max_leaf_nodes, my_mae))"
      ],
      "metadata": {
        "colab": {
          "base_uri": "https://localhost:8080/"
        },
        "id": "_IWMm7Tl-PA1",
        "outputId": "c6cba7a4-552c-4fbc-83af-fac7a3ec2b86"
      },
      "execution_count": 8,
      "outputs": [
        {
          "output_type": "stream",
          "name": "stdout",
          "text": [
            "Max leaf nodes: 5  \t\t Mean Absolute Error:  347380\n",
            "Max leaf nodes: 50  \t\t Mean Absolute Error:  258171\n",
            "Max leaf nodes: 500  \t\t Mean Absolute Error:  243495\n",
            "Max leaf nodes: 5000  \t\t Mean Absolute Error:  254983\n"
          ]
        }
      ]
    }
  ]
}