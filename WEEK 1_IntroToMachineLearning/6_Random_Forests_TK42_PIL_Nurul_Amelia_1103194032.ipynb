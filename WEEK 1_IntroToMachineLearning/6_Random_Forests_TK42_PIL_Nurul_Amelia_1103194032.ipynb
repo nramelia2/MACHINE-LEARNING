{
  "nbformat": 4,
  "nbformat_minor": 0,
  "metadata": {
    "colab": {
      "name": "6_Random_Forests_TK42_PIL_Nurul_Amelia_1103194032.ipynb",
      "provenance": [],
      "collapsed_sections": [],
      "authorship_tag": "ABX9TyOoPiIk0HeWI/KpBvCh7emY",
      "include_colab_link": true
    },
    "kernelspec": {
      "name": "python3",
      "display_name": "Python 3"
    },
    "language_info": {
      "name": "python"
    }
  },
  "cells": [
    {
      "cell_type": "markdown",
      "metadata": {
        "id": "view-in-github",
        "colab_type": "text"
      },
      "source": [
        "<a href=\"https://colab.research.google.com/github/nramelia2/MACHINE-LEARNING/blob/main/WEEK%201_IntroToMachineLearning/6_Random_Forests_TK42_PIL_Nurul_Amelia_1103194032.ipynb\" target=\"_parent\"><img src=\"https://colab.research.google.com/assets/colab-badge.svg\" alt=\"Open In Colab\"/></a>"
      ]
    },
    {
      "cell_type": "code",
      "source": [
        "import pandas as pd # library pandas"
      ],
      "metadata": {
        "id": "p2AV_Ram_cCK"
      },
      "execution_count": 1,
      "outputs": []
    },
    {
      "cell_type": "code",
      "source": [
        "# menyambungkan google collab dengan drive agar .csv yang di drive bisa dibaca (connect google colab to the drive so that the .csv on the drive can be read).\n",
        "from google.colab import drive\n",
        "drive.mount ('/content/drive')"
      ],
      "metadata": {
        "colab": {
          "base_uri": "https://localhost:8080/"
        },
        "id": "d0PLXtk8BDCc",
        "outputId": "1f5ca914-1eb1-44ea-c461-33df52e644b3"
      },
      "execution_count": 2,
      "outputs": [
        {
          "output_type": "stream",
          "name": "stdout",
          "text": [
            "Mounted at /content/drive\n"
          ]
        }
      ]
    },
    {
      "cell_type": "code",
      "source": [
        "# sublibrary dari modul model_selection di library sklearn (sublibrary of the model_selection module in the sklearn library)\n",
        "from sklearn.tree import DecisionTreeRegressor\n",
        "from sklearn.metrics import mean_absolute_error\n",
        "from sklearn.model_selection import train_test_split\n",
        "from sklearn.ensemble import RandomForestRegressor"
      ],
      "metadata": {
        "id": "ppfc6MY9_eX6"
      },
      "execution_count": 3,
      "outputs": []
    },
    {
      "cell_type": "code",
      "source": [
        "# menyimpan lokasi penyimpanan ke dalam variabel agar mudah dipanggil (saves the storage location into a variable for easy calling).\n",
        "melbourne_data = pd.read_csv('/content/drive/My Drive/ML/week1/melb_data.csv')"
      ],
      "metadata": {
        "id": "qCkxYS5n_hCL"
      },
      "execution_count": 4,
      "outputs": []
    },
    {
      "cell_type": "code",
      "source": [
        "melbourne_data = melbourne_data.dropna(axis=0) # menghapus baris data yang terdapat NaN, sedangkan axis=0 untuk menghapus kolom data yang terdapat NaN (delete data rows that contain NaN, while axis = 0 to delete data columns that contain NaN).\n",
        "y = melbourne_data.Price\n",
        "\n",
        "# untuk mengatur apa yang ingin ditampilkan didalam kolom (to set what to display in the column).\n",
        "melbourne_features = ['Rooms', 'Bathroom', 'Landsize', 'BuildingArea', 'YearBuilt', 'Lattitude', 'Longtitude']\n",
        "X = melbourne_data[melbourne_features]"
      ],
      "metadata": {
        "id": "JBwaj4kh_9-B"
      },
      "execution_count": 5,
      "outputs": []
    },
    {
      "cell_type": "code",
      "source": [
        "# train_X sebagai data X yang ingin dilatih (train_X as data X you want to train).\n",
        "# train_y sebagai variabel dependen yang ingin dilatih (train_y as the dependent variable you want to train).\n",
        "# X sebagai variabel independen dan y sebagai variabel dependen (X as the independent variable and y as the dependent variable).\n",
        "# random_state digunakan untuk memastikan hasil yang sama setiap kali dijalankan, jika kita menggunakan angka 1,2,... maka hasil yang di dapatkan juga akan berbeda (kalau disini hasilnya akan semakin kecil)\n",
        "# (random_state is used to ensure the same result every time it is run, if we use the number 1,2,... then the results will also be different (if here the results will be smaller)).\n",
        "train_X, val_X, train_y, val_y = train_test_split(X, y, random_state = 0) # memecah data menjadi train dan validasi secara acak (breaks data into trains and validations randomly)."
      ],
      "metadata": {
        "id": "yu9LLQ3iAO3g"
      },
      "execution_count": 6,
      "outputs": []
    },
    {
      "cell_type": "code",
      "source": [
        "forest_model = RandomForestRegressor(random_state=1)\n",
        "forest_model.fit(train_X, train_y)\n",
        "melb_preds = forest_model.predict(val_X)\n",
        "print(mean_absolute_error(val_y, melb_preds)) # mengukur tingkat keakuratan suatu model (MAE) (measuring the level of accuracy of a model (MAE))."
      ],
      "metadata": {
        "colab": {
          "base_uri": "https://localhost:8080/"
        },
        "id": "v6JdT9ymAf1t",
        "outputId": "fe5a58b0-11a1-4110-f2f2-e889cc69a6c9"
      },
      "execution_count": 7,
      "outputs": [
        {
          "output_type": "stream",
          "name": "stdout",
          "text": [
            "191669.7536453626\n"
          ]
        }
      ]
    }
  ]
}