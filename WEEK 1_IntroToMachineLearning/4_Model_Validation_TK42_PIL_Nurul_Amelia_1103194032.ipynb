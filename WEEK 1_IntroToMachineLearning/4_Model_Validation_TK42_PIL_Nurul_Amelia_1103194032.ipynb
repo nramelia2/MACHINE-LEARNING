{
  "nbformat": 4,
  "nbformat_minor": 0,
  "metadata": {
    "colab": {
      "name": "4_Model_Validation_TK42_PIL_Nurul_Amelia_1103194032.ipynb",
      "provenance": [],
      "collapsed_sections": [],
      "authorship_tag": "ABX9TyNAGh1y6tXBwSqYR9FGbNbf",
      "include_colab_link": true
    },
    "kernelspec": {
      "name": "python3",
      "display_name": "Python 3"
    },
    "language_info": {
      "name": "python"
    }
  },
  "cells": [
    {
      "cell_type": "markdown",
      "metadata": {
        "id": "view-in-github",
        "colab_type": "text"
      },
      "source": [
        "<a href=\"https://colab.research.google.com/github/nramelia2/MACHINE-LEARNING/blob/main/WEEK%201_IntroToMachineLearning/4_Model_Validation_TK42_PIL_Nurul_Amelia_1103194032.ipynb\" target=\"_parent\"><img src=\"https://colab.research.google.com/assets/colab-badge.svg\" alt=\"Open In Colab\"/></a>"
      ]
    },
    {
      "cell_type": "code",
      "execution_count": 1,
      "metadata": {
        "id": "y8CkpG9K5chX"
      },
      "outputs": [],
      "source": [
        "import pandas as pd # library pandas"
      ]
    },
    {
      "cell_type": "code",
      "source": [
        "# menyambungkan google collab dengan drive agar .csv yang di drive bisa dibaca (connect google colab to the drive so that the .csv on the drive can be read).\n",
        "from google.colab import drive\n",
        "drive.mount ('/content/drive')"
      ],
      "metadata": {
        "colab": {
          "base_uri": "https://localhost:8080/"
        },
        "id": "ZaZ5Ah-m5oij",
        "outputId": "5e5a34bc-81ff-49c0-8ebe-372a60defa46"
      },
      "execution_count": 2,
      "outputs": [
        {
          "output_type": "stream",
          "name": "stdout",
          "text": [
            "Drive already mounted at /content/drive; to attempt to forcibly remount, call drive.mount(\"/content/drive\", force_remount=True).\n"
          ]
        }
      ]
    },
    {
      "cell_type": "code",
      "source": [
        "# sublibrary dari modul model_selection di library sklearn (sublibrary of the model_selection module in the sklearn library)\n",
        "from sklearn.tree import DecisionTreeRegressor\n",
        "from sklearn.metrics import mean_absolute_error\n",
        "from sklearn.model_selection import train_test_split"
      ],
      "metadata": {
        "id": "KqHZvOsn5sXw"
      },
      "execution_count": 3,
      "outputs": []
    },
    {
      "cell_type": "code",
      "source": [
        "# menyimpan lokasi penyimpanan ke dalam variabel agar mudah dipanggil (saves the storage location into a variable for easy calling).\n",
        "melbourne_data = pd.read_csv('/content/drive/My Drive/ML/week1/melb_data.csv')"
      ],
      "metadata": {
        "id": "cehB1U9B587e"
      },
      "execution_count": 4,
      "outputs": []
    },
    {
      "cell_type": "code",
      "source": [
        "# menghapus baris data yang terdapat NaN, sedangkan axis=0 untuk menghapus kolom data yang terdapat NaN (delete data rows that contain NaN, while axis = 0 to delete data columns that contain NaN).\n",
        "filtered_melbourne_data = melbourne_data.dropna(axis=0)\n",
        "y = filtered_melbourne_data.Price\n",
        "\n",
        "# untuk mengatur apa yang ingin ditampilkan didalam kolom (to set what to display in the column).\n",
        "melbourne_features = ['Rooms', 'Bathroom', 'Landsize', 'BuildingArea', 'YearBuilt', 'Lattitude', 'Longtitude']\n",
        "X = filtered_melbourne_data[melbourne_features]"
      ],
      "metadata": {
        "id": "iRBiWjF952oi"
      },
      "execution_count": 5,
      "outputs": []
    },
    {
      "cell_type": "code",
      "source": [
        "# Define model.\n",
        "melbourne_model = DecisionTreeRegressor() # random_state digunakan untuk memastikan hasil yang sama setiap kali dijalankan (random_state is used to ensure the same result every time it is run).\n",
        "\n",
        "# Fit model\n",
        "melbourne_model.fit(X, y)"
      ],
      "metadata": {
        "colab": {
          "base_uri": "https://localhost:8080/"
        },
        "id": "ELN4MCst6EgE",
        "outputId": "aa0452bf-9298-4497-b0d8-5bb8b8e1e5c9"
      },
      "execution_count": 6,
      "outputs": [
        {
          "output_type": "execute_result",
          "data": {
            "text/plain": [
              "DecisionTreeRegressor()"
            ]
          },
          "metadata": {},
          "execution_count": 6
        }
      ]
    },
    {
      "cell_type": "code",
      "source": [
        "predicted_home_prices = melbourne_model.predict(X)\n",
        "# mengukur tingkat keakuratan suatu model (MAE) (measuring the level of accuracy of a model (MAE)).\n",
        "mean_absolute_error(y, predicted_home_prices)"
      ],
      "metadata": {
        "colab": {
          "base_uri": "https://localhost:8080/"
        },
        "id": "aZ_1q0Qa6UVA",
        "outputId": "68e102f9-5eb5-4754-b008-173dff90be7d"
      },
      "execution_count": 7,
      "outputs": [
        {
          "output_type": "execute_result",
          "data": {
            "text/plain": [
              "434.71594577146544"
            ]
          },
          "metadata": {},
          "execution_count": 7
        }
      ]
    },
    {
      "cell_type": "code",
      "source": [
        "# train_X sebagai data X yang ingin dilatih (train_X as data X you want to train).\n",
        "# train_y sebagai variabel dependen yang ingin dilatih (train_y as the dependent variable you want to train).\n",
        "# X sebagai variabel independen dan y sebagai variabel dependen (X as the independent variable and y as the dependent variable).\n",
        "# random_state digunakan untuk memastikan hasil yang sama setiap kali dijalankan, jika kita menggunakan angka 1,2,... maka hasil yang di dapatkan juga akan berbeda (kalau disini hasilnya akan semakin kecil)\n",
        "# (random_state is used to ensure the same result every time it is run, if we use the number 1,2,... then the results will also be different (if here the results will be smaller)).\n",
        "train_X, val_X, train_y, val_y = train_test_split(X, y, random_state = 0) # memecah data menjadi train dan validasi secara acak (breaks data into trains and validations randomly).\n",
        "# Define model\n",
        "melbourne_model = DecisionTreeRegressor()\n",
        "# Fit model\n",
        "melbourne_model.fit(train_X, train_y)\n",
        "\n",
        "# mendapatkan harga yang diprediksi dari validasi data (get the predicted price from data validation).\n",
        "val_predictions = melbourne_model.predict(val_X)\n",
        "# mengukur tingkat keakuratan suatu model (MAE) (measuring the level of accuracy of a model (MAE)).\n",
        "print(mean_absolute_error(val_y, val_predictions))"
      ],
      "metadata": {
        "colab": {
          "base_uri": "https://localhost:8080/"
        },
        "id": "UCuHUN2j6b2y",
        "outputId": "312550c5-7c08-41a9-d5e3-57b8342f7190"
      },
      "execution_count": 8,
      "outputs": [
        {
          "output_type": "stream",
          "name": "stdout",
          "text": [
            "259500.70948999355\n"
          ]
        }
      ]
    }
  ]
}