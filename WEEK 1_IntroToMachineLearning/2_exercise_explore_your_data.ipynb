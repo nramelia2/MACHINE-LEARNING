{
  "metadata": {
    "kernelspec": {
      "language": "python",
      "display_name": "Python 3",
      "name": "python3"
    },
    "language_info": {
      "name": "python",
      "version": "3.7.12",
      "mimetype": "text/x-python",
      "codemirror_mode": {
        "name": "ipython",
        "version": 3
      },
      "pygments_lexer": "ipython3",
      "nbconvert_exporter": "python",
      "file_extension": ".py"
    },
    "colab": {
      "name": "2_exercise-explore-your-data.ipynb",
      "provenance": [],
      "collapsed_sections": [],
      "include_colab_link": true
    }
  },
  "nbformat_minor": 0,
  "nbformat": 4,
  "cells": [
    {
      "cell_type": "markdown",
      "metadata": {
        "id": "view-in-github",
        "colab_type": "text"
      },
      "source": [
        "<a href=\"https://colab.research.google.com/github/nramelia2/MACHINE-LEARNING/blob/main/WEEK%201_IntroToMachineLearning/2_exercise_explore_your_data.ipynb\" target=\"_parent\"><img src=\"https://colab.research.google.com/assets/colab-badge.svg\" alt=\"Open In Colab\"/></a>"
      ]
    },
    {
      "cell_type": "markdown",
      "source": [
        "**[Machine Learning Course Home Page](https://www.kaggle.com/learn/machine-learning)**\n",
        "\n",
        "---\n"
      ],
      "metadata": {
        "id": "dtx2fiZtU4GC"
      }
    },
    {
      "cell_type": "markdown",
      "source": [
        "This exercise will test your ability to read a data file and understand statistics about the data.\n",
        "\n",
        "In later exercises, you will apply techniques to filter the data, build a machine learning model, and iteratively improve your model.\n",
        "\n",
        "The course examples use data from Melbourne. To ensure you can apply these techniques on your own, you will have to apply them to a new dataset (with house prices from Iowa).\n",
        "\n",
        "The exercises use a \"notebook\" coding environment.  In case you are unfamiliar with notebooks, we have a [90-second intro video](https://www.youtube.com/watch?v=4C2qMnaIKL4).\n",
        "\n",
        "# Exercises\n",
        "\n",
        "Run the following cell to set up code-checking, which will verify your work as you go."
      ],
      "metadata": {
        "id": "6_wK9bRNU4GF"
      }
    },
    {
      "cell_type": "code",
      "source": [
        "# Set up code checking\n",
        "from learntools.core import binder\n",
        "binder.bind(globals())\n",
        "from learntools.machine_learning.ex2 import *\n",
        "print(\"Setup Complete\")"
      ],
      "metadata": {
        "execution": {
          "iopub.status.busy": "2022-03-05T04:21:08.899234Z",
          "iopub.execute_input": "2022-03-05T04:21:08.899887Z",
          "iopub.status.idle": "2022-03-05T04:21:08.952930Z",
          "shell.execute_reply.started": "2022-03-05T04:21:08.899770Z",
          "shell.execute_reply": "2022-03-05T04:21:08.951791Z"
        },
        "trusted": true,
        "id": "MV9XqdbEU4GG"
      },
      "execution_count": null,
      "outputs": []
    },
    {
      "cell_type": "markdown",
      "source": [
        "## Step 1: Loading Data\n",
        "Read the Iowa data file into a Pandas DataFrame called `home_data`."
      ],
      "metadata": {
        "id": "TjhGSQAaU4GI"
      }
    },
    {
      "cell_type": "code",
      "source": [
        "import pandas as pd\n",
        "\n",
        "# Path of the file to read\n",
        "iowa_file_path = '../input/home-data-for-ml-course/train.csv'\n",
        "\n",
        "# Fill in the line below to read the file into a variable home_data\n",
        "home_data = pd.read_csv(iowa_file_path)\n",
        "\n",
        "# Call line below with no argument to check that you've loaded the data correctly\n",
        "step_1.check()"
      ],
      "metadata": {
        "execution": {
          "iopub.status.busy": "2022-03-05T04:21:42.609855Z",
          "iopub.execute_input": "2022-03-05T04:21:42.610099Z",
          "iopub.status.idle": "2022-03-05T04:21:42.651871Z",
          "shell.execute_reply.started": "2022-03-05T04:21:42.610075Z",
          "shell.execute_reply": "2022-03-05T04:21:42.651273Z"
        },
        "trusted": true,
        "id": "l_-tTZcuU4GI"
      },
      "execution_count": null,
      "outputs": []
    },
    {
      "cell_type": "code",
      "source": [
        "# Lines below will give you a hint or solution code\n",
        "#step_1.hint()\n",
        "#step_1.solution()"
      ],
      "metadata": {
        "execution": {
          "iopub.status.busy": "2022-03-05T04:21:53.730052Z",
          "iopub.execute_input": "2022-03-05T04:21:53.730496Z",
          "iopub.status.idle": "2022-03-05T04:21:53.733603Z",
          "shell.execute_reply.started": "2022-03-05T04:21:53.730454Z",
          "shell.execute_reply": "2022-03-05T04:21:53.733125Z"
        },
        "trusted": true,
        "id": "fY1owo30U4GJ"
      },
      "execution_count": null,
      "outputs": []
    },
    {
      "cell_type": "markdown",
      "source": [
        "## Step 2: Review The Data\n",
        "Use the command you learned to view summary statistics of the data. Then fill in variables to answer the following questions"
      ],
      "metadata": {
        "id": "l4hzqgV_U4GJ"
      }
    },
    {
      "cell_type": "code",
      "source": [
        "# Print summary statistics in next line\n",
        "home_data.describe()"
      ],
      "metadata": {
        "execution": {
          "iopub.status.busy": "2022-03-05T04:22:22.625187Z",
          "iopub.execute_input": "2022-03-05T04:22:22.625660Z",
          "iopub.status.idle": "2022-03-05T04:22:22.729348Z",
          "shell.execute_reply.started": "2022-03-05T04:22:22.625627Z",
          "shell.execute_reply": "2022-03-05T04:22:22.728797Z"
        },
        "trusted": true,
        "id": "026XGH66U4GJ"
      },
      "execution_count": null,
      "outputs": []
    },
    {
      "cell_type": "code",
      "source": [
        "# What is the average lot size (rounded to nearest integer)?\n",
        "avg_lot_size = 10517\n",
        "\n",
        "# As of today, how old is the newest home (current year - the date in which it was built)\n",
        "newest_home_age = 12\n",
        "\n",
        "# Checks your answers\n",
        "step_2.check()"
      ],
      "metadata": {
        "execution": {
          "iopub.status.busy": "2022-03-05T04:22:45.445704Z",
          "iopub.execute_input": "2022-03-05T04:22:45.445980Z",
          "iopub.status.idle": "2022-03-05T04:22:45.453415Z",
          "shell.execute_reply.started": "2022-03-05T04:22:45.445952Z",
          "shell.execute_reply": "2022-03-05T04:22:45.452657Z"
        },
        "trusted": true,
        "id": "Nc8461FsU4GK"
      },
      "execution_count": null,
      "outputs": []
    },
    {
      "cell_type": "code",
      "source": [
        "#step_2.hint()\n",
        "#step_2.solution()"
      ],
      "metadata": {
        "execution": {
          "iopub.status.busy": "2022-03-05T04:22:54.346134Z",
          "iopub.execute_input": "2022-03-05T04:22:54.346561Z",
          "iopub.status.idle": "2022-03-05T04:22:54.349266Z",
          "shell.execute_reply.started": "2022-03-05T04:22:54.346533Z",
          "shell.execute_reply": "2022-03-05T04:22:54.348729Z"
        },
        "trusted": true,
        "id": "_LBIDZCKU4GK"
      },
      "execution_count": null,
      "outputs": []
    },
    {
      "cell_type": "markdown",
      "source": [
        "## Think About Your Data\n",
        "\n",
        "The newest house in your data isn't that new.  A few potential explanations for this:\n",
        "1. They haven't built new houses where this data was collected.\n",
        "1. The data was collected a long time ago. Houses built after the data publication wouldn't show up.\n",
        "\n",
        "If the reason is explanation #1 above, does that affect your trust in the model you build with this data? What about if it is reason #2?\n",
        "\n",
        "How could you dig into the data to see which explanation is more plausible?\n",
        "\n",
        "Check out this **[discussion thread](https://www.kaggle.com/learn-forum/60581)** to see what others think or to add your ideas.\n",
        "\n",
        "# Keep Going\n",
        "\n",
        "You are ready for **[Your First Machine Learning Model](https://www.kaggle.com/dansbecker/your-first-machine-learning-model).**\n"
      ],
      "metadata": {
        "id": "ygVIOSSEU4GL"
      }
    },
    {
      "cell_type": "markdown",
      "source": [
        "---\n",
        "**[Machine Learning Course Home Page](https://www.kaggle.com/learn/machine-learning)**\n",
        "\n"
      ],
      "metadata": {
        "id": "5N7N82DyU4GL"
      }
    }
  ]
}